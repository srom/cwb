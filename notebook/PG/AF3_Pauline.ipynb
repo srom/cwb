{
 "cells": [
  {
   "cell_type": "code",
   "execution_count": 12,
   "metadata": {},
   "outputs": [],
   "source": [
    "import copy\n",
    "import json\n",
    "import os\n",
    "from pathlib import Path\n",
    "import random\n",
    "\n",
    "from Bio import SeqIO\n",
    "\n",
    "cwd = os.getcwd()\n",
    "if cwd.endswith('notebook/PG'):\n",
    "    os.chdir('../..')\n",
    "    cwd = os.getcwd()\n",
    "\n",
    "from src.pg_modelling.ligand_utils import sanitize_protein_id"
   ]
  },
  {
   "cell_type": "code",
   "execution_count": 13,
   "metadata": {},
   "outputs": [],
   "source": [
    "paulines_folder = Path(os.path.expanduser('~')) / 'Documents' / 'Pauline'\n",
    "assert paulines_folder.is_dir()"
   ]
  },
  {
   "cell_type": "code",
   "execution_count": 14,
   "metadata": {},
   "outputs": [],
   "source": [
    "def gen_model_seeds(n):\n",
    "    return [int(random.uniform(1, 100)) for _ in range(n)]"
   ]
  },
  {
   "cell_type": "code",
   "execution_count": 17,
   "metadata": {},
   "outputs": [],
   "source": [
    "json_data = {\n",
    "    'sequences': [],\n",
    "    'modelSeeds': gen_model_seeds(3),\n",
    "    'dialect': 'alphafold3',\n",
    "    'version': 1,\n",
    "}\n",
    "for record in SeqIO.parse(paulines_folder / 'HNS_Hfp_JGLRI_DBProka_Misson_Fitzgerald_unique.faa', 'fasta'):\n",
    "    data = copy.deepcopy(json_data)\n",
    "\n",
    "    name = sanitize_protein_id(record.id)\n",
    "    data['name'] = name\n",
    "\n",
    "    sequence = str(record.seq).upper()\n",
    "    if sequence.endswith('*'):\n",
    "        sequence = sequence[:-1]\n",
    "    elif '*' in sequence:\n",
    "        raise ValueError('* in the middle of the sequence')\n",
    "\n",
    "    sequence = {\n",
    "        'protein': {\n",
    "            'id': 'A',\n",
    "            'sequence': sequence\n",
    "        },\n",
    "    }\n",
    "    data['sequences'].append(sequence)\n",
    "\n",
    "    path = paulines_folder / 'af3_json_inputs' / f'{name}.json'\n",
    "\n",
    "    with path.open('w') as f_out:\n",
    "        json.dump(\n",
    "            data, \n",
    "            f_out,\n",
    "            indent=True,\n",
    "        )"
   ]
  },
  {
   "cell_type": "code",
   "execution_count": null,
   "metadata": {},
   "outputs": [],
   "source": []
  }
 ],
 "metadata": {
  "kernelspec": {
   "display_name": "cwb",
   "language": "python",
   "name": "python3"
  },
  "language_info": {
   "codemirror_mode": {
    "name": "ipython",
    "version": 3
   },
   "file_extension": ".py",
   "mimetype": "text/x-python",
   "name": "python",
   "nbconvert_exporter": "python",
   "pygments_lexer": "ipython3",
   "version": "3.11.11"
  }
 },
 "nbformat": 4,
 "nbformat_minor": 2
}
