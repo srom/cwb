{
 "cells": [
  {
   "cell_type": "code",
   "execution_count": 1,
   "metadata": {},
   "outputs": [],
   "source": [
    "import os\n",
    "from pathlib import Path\n",
    "import re\n",
    "\n",
    "import numpy as np\n",
    "import pandas as pd\n",
    "from rdkit import Chem\n",
    "\n",
    "cwd = os.getcwd()\n",
    "if cwd.endswith('notebook/PG'):\n",
    "    os.chdir('../..')\n",
    "    cwd = os.getcwd()\n",
    "\n",
    "from src.pg_modelling.ligand_utils import sanitize_ligand_name, parse_plip_output, generate_conformation"
   ]
  },
  {
   "cell_type": "code",
   "execution_count": 2,
   "metadata": {},
   "outputs": [],
   "source": [
    "import matplotlib.pyplot as plt\n",
    "import matplotlib.lines as mlines\n",
    "import seaborn as sns\n",
    "sns.set_palette('colorblind')\n",
    "sns.set_style('whitegrid')\n",
    "sns.set_context('paper', font_scale=1.8)\n",
    "plt.rcParams['font.family'] = 'Helvetica'\n",
    "\n",
    "palette = sns.color_palette().as_hex()"
   ]
  },
  {
   "cell_type": "code",
   "execution_count": 4,
   "metadata": {},
   "outputs": [],
   "source": [
    "base_folder = Path(os.path.expanduser('~')) / 'Documents' / 'PG_modelling'\n",
    "assert base_folder.is_dir()"
   ]
  },
  {
   "cell_type": "markdown",
   "metadata": {},
   "source": [
    "## Load all scores"
   ]
  },
  {
   "cell_type": "code",
   "execution_count": null,
   "metadata": {},
   "outputs": [
    {
     "name": "stdout",
     "output_type": "stream",
     "text": [
      "N = 2,553\n"
     ]
    }
   ],
   "source": [
    "E_coli_libary = base_folder / 'PG_library' / 'Escherichia_coli' / 'E_coli_cell_wall_library.xlsx'\n",
    "S_equi_libary = base_folder / 'PG_library' / 'Streptococcus_equi' / 'S_equi_cell_wall_library.xlsx'\n",
    "S_aureus_libary = base_folder / 'PG_library' / 'Staphylococcus_aureus' / 'S_aureus_cell_wall_library.xlsx'\n",
    "\n",
    "pg_library = pd.concat(\n",
    "    [\n",
    "        pd.read_excel(\n",
    "            E_coli_libary,\n",
    "            sheet_name=0,\n",
    "        ),\n",
    "        pd.read_excel(\n",
    "            E_coli_libary,\n",
    "            sheet_name=1,\n",
    "        ),\n",
    "        pd.read_excel(\n",
    "            S_equi_libary,\n",
    "            sheet_name=0,\n",
    "        ),\n",
    "        pd.read_excel(\n",
    "            S_equi_libary,\n",
    "            sheet_name=1,\n",
    "        ),\n",
    "        pd.read_excel(\n",
    "            S_aureus_libary,\n",
    "            sheet_name=0,\n",
    "        ),\n",
    "        pd.read_excel(\n",
    "            S_aureus_libary,\n",
    "            sheet_name=1,\n",
    "        ),\n",
    "    ],\n",
    "    ignore_index=True,\n",
    ")\n",
    "pg_library['ligand_id'] = pg_library['Name'].apply(sanitize_ligand_name)\n",
    "pg_library = pg_library.drop_duplicates('ligand_id')\n",
    "pg_library = pg_library.set_index('ligand_id')\n",
    "print(f'N = {len(pg_library):,}')"
   ]
  },
  {
   "cell_type": "code",
   "execution_count": 14,
   "metadata": {},
   "outputs": [],
   "source": [
    "pg_library_subset = pg_library.rename(columns={\n",
    "    'SMILES': 'smiles',\n",
    "    'Monoisotopic Mass': 'mass',\n",
    "})[['smiles', 'mass']]"
   ]
  },
  {
   "cell_type": "code",
   "execution_count": 16,
   "metadata": {},
   "outputs": [
    {
     "name": "stdout",
     "output_type": "stream",
     "text": [
      "N = 2,554\n"
     ]
    }
   ],
   "source": [
    "# Pick larg-ish lipid from E. coli: (3S)-citryl-CoA\n",
    "lipid_maps = pd.read_csv(base_folder / 'PG_library' / 'lipid_maps' / 'lipids.csv')\n",
    "lipid_df = lipid_maps[lipid_maps['NAME'] == '(3S)-citryl-CoA'].copy()\n",
    "lipid_df['ligand_id'] = lipid_df['NAME'].apply(lambda n: f'lipid-{sanitize_ligand_name(n)}')\n",
    "lipid_df = lipid_df.set_index('ligand_id').rename(columns={\n",
    "    'SMILES': 'smiles',\n",
    "    'EXACT_MASS': 'mass',\n",
    "})[['smiles', 'mass']]\n",
    "\n",
    "ligands_df = pd.concat([pg_library, lipid_df])\n",
    "print(f'N = {len(ligands_df):,}')"
   ]
  },
  {
   "cell_type": "code",
   "execution_count": 37,
   "metadata": {},
   "outputs": [],
   "source": [
    "binding_sites = {\n",
    "    'Human_Lysozyme_C_P61626':  {\n",
    "        ('Glu', 53),  # active site\n",
    "        ('Asn', 64),\n",
    "        ('Asp', 71),  # active site\n",
    "        ('Asn', 78),\n",
    "        ('Val', 117),\n",
    "        ('Ala', 126),\n",
    "        ('Trp', 127),\n",
    "        ('Val', 128),\n",
    "    },  # Source: https://doi.org/10.3390/app12094363\n",
    "    'Lysostaphin_P10547': {\n",
    "        ('Thr', 8),\n",
    "        ('Asn', 9),\n",
    "        ('Ile', 13),\n",
    "        ('Ser', 26),\n",
    "        ('Met', 41),\n",
    "        ('Tyr', 60),\n",
    "        ('Trp', 77),\n",
    "    },  # Source: https://doi.org/10.1038/s41589-019-0393-4\n",
    "    'ZoocinA_O54308': {\n",
    "        ('Asn', 32),\n",
    "        ('Gln', 84),\n",
    "        ('Trp', 94),\n",
    "        ('Asn', 96),\n",
    "    },  # Source: https://doi.org/10.1016/j.bbrc.2013.09.087\n",
    "}\n",
    "\n",
    "def parse_results(protein : str, model : str):\n",
    "    path = base_folder / protein / 'modelling' / model / 'scores.csv'\n",
    "\n",
    "    df = pd.read_csv(path, index_col='ligand_name')\n",
    "    df['aev_plig_pK_norm'] = df.apply(\n",
    "        lambda row: row['aev_plig_pK'] / (ligands_df.loc[row.name, 'mass'] / 1000),\n",
    "        axis=1,\n",
    "    )\n",
    "    df['binding_site'] = df['structure_file'].apply(interact_with_binding_site(protein))\n",
    "\n",
    "    df['model'] = model\n",
    "\n",
    "    return df.reset_index(drop=False).set_index(['model', 'protein_name', 'ligand_name', 'seed', 'sample']).sort_index()\n",
    "\n",
    "\n",
    "def interact_with_binding_site(protein : str):\n",
    "\n",
    "    def interact_with_binding_site_inner(structure_path_str : str) -> bool:\n",
    "        p = (\n",
    "            base_folder / protein / 'modelling' / \n",
    "            re.sub(r'^.*?modelling/', '', structure_path_str.replace('.cif', '_plip')) / 'report.xml'\n",
    "        )\n",
    "        if not p.is_file():\n",
    "            return False\n",
    "        \n",
    "        plip_df = parse_plip_output(p)\n",
    "        for residue_name, residue_number in plip_df[['residue_name', 'residue_number']].values:\n",
    "            key = (residue_name.title(), residue_number)\n",
    "            if key in binding_sites[protein]:\n",
    "                return True\n",
    "        return False\n",
    "    \n",
    "    return interact_with_binding_site_inner"
   ]
  },
  {
   "cell_type": "code",
   "execution_count": 66,
   "metadata": {},
   "outputs": [],
   "source": [
    "def sort_and_drop_duplicates(df):\n",
    "    out_df = df.reset_index().sort_values(\n",
    "        [\n",
    "            'protein_name', 'ligand_name', 'binding_site', 'posebusters_score', 'confidence', 'aev_plig_pK'\n",
    "        ],\n",
    "        ascending=False,\n",
    "    ).drop_duplicates(\n",
    "        ['protein_name', 'ligand_name']\n",
    "    )\n",
    "\n",
    "    return out_df.sort_values(\n",
    "        [\n",
    "            'binding_site', 'posebusters_score', 'confidence', 'aev_plig_pK'\n",
    "        ],\n",
    "        ascending=False\n",
    "    )"
   ]
  },
  {
   "cell_type": "code",
   "execution_count": 38,
   "metadata": {},
   "outputs": [
    {
     "name": "stdout",
     "output_type": "stream",
     "text": [
      "N = 900\n"
     ]
    },
    {
     "data": {
      "text/html": [
       "<div>\n",
       "<style scoped>\n",
       "    .dataframe tbody tr th:only-of-type {\n",
       "        vertical-align: middle;\n",
       "    }\n",
       "\n",
       "    .dataframe tbody tr th {\n",
       "        vertical-align: top;\n",
       "    }\n",
       "\n",
       "    .dataframe thead th {\n",
       "        text-align: right;\n",
       "    }\n",
       "</style>\n",
       "<table border=\"1\" class=\"dataframe\">\n",
       "  <thead>\n",
       "    <tr style=\"text-align: right;\">\n",
       "      <th></th>\n",
       "      <th></th>\n",
       "      <th></th>\n",
       "      <th></th>\n",
       "      <th></th>\n",
       "      <th>structure_file</th>\n",
       "      <th>ptm</th>\n",
       "      <th>iptm</th>\n",
       "      <th>confidence</th>\n",
       "      <th>posebusters_score</th>\n",
       "      <th>energy_ratio</th>\n",
       "      <th>posebusters_errors</th>\n",
       "      <th>aev_plig_pK</th>\n",
       "      <th>aev_plig_pK_norm</th>\n",
       "      <th>binding_site</th>\n",
       "    </tr>\n",
       "    <tr>\n",
       "      <th>model</th>\n",
       "      <th>protein_name</th>\n",
       "      <th>ligand_name</th>\n",
       "      <th>seed</th>\n",
       "      <th>sample</th>\n",
       "      <th></th>\n",
       "      <th></th>\n",
       "      <th></th>\n",
       "      <th></th>\n",
       "      <th></th>\n",
       "      <th></th>\n",
       "      <th></th>\n",
       "      <th></th>\n",
       "      <th></th>\n",
       "      <th></th>\n",
       "    </tr>\n",
       "  </thead>\n",
       "  <tbody>\n",
       "    <tr>\n",
       "      <th rowspan=\"5\" valign=\"top\">af3</th>\n",
       "      <th rowspan=\"5\" valign=\"top\">Human_Lysozyme_C_P61626</th>\n",
       "      <th rowspan=\"5\" valign=\"top\">G-MUR-AemA</th>\n",
       "      <th rowspan=\"5\" valign=\"top\">85</th>\n",
       "      <th>0</th>\n",
       "      <td>/home/rs1521/PG/Human_Lysozyme_C_P61626/modell...</td>\n",
       "      <td>0.77</td>\n",
       "      <td>0.58</td>\n",
       "      <td>0.618</td>\n",
       "      <td>20.0</td>\n",
       "      <td>2.3</td>\n",
       "      <td>NaN</td>\n",
       "      <td>5.13</td>\n",
       "      <td>NaN</td>\n",
       "      <td>False</td>\n",
       "    </tr>\n",
       "    <tr>\n",
       "      <th>1</th>\n",
       "      <td>/home/rs1521/PG/Human_Lysozyme_C_P61626/modell...</td>\n",
       "      <td>0.75</td>\n",
       "      <td>0.51</td>\n",
       "      <td>0.558</td>\n",
       "      <td>19.0</td>\n",
       "      <td>25.2</td>\n",
       "      <td>minimum_distance_to_protein</td>\n",
       "      <td>5.73</td>\n",
       "      <td>NaN</td>\n",
       "      <td>True</td>\n",
       "    </tr>\n",
       "    <tr>\n",
       "      <th>2</th>\n",
       "      <td>/home/rs1521/PG/Human_Lysozyme_C_P61626/modell...</td>\n",
       "      <td>0.77</td>\n",
       "      <td>0.56</td>\n",
       "      <td>0.602</td>\n",
       "      <td>19.0</td>\n",
       "      <td>3.8</td>\n",
       "      <td>minimum_distance_to_protein</td>\n",
       "      <td>5.52</td>\n",
       "      <td>NaN</td>\n",
       "      <td>True</td>\n",
       "    </tr>\n",
       "    <tr>\n",
       "      <th>3</th>\n",
       "      <td>/home/rs1521/PG/Human_Lysozyme_C_P61626/modell...</td>\n",
       "      <td>0.75</td>\n",
       "      <td>0.49</td>\n",
       "      <td>0.542</td>\n",
       "      <td>19.0</td>\n",
       "      <td>3.6</td>\n",
       "      <td>minimum_distance_to_protein</td>\n",
       "      <td>5.32</td>\n",
       "      <td>NaN</td>\n",
       "      <td>True</td>\n",
       "    </tr>\n",
       "    <tr>\n",
       "      <th>4</th>\n",
       "      <td>/home/rs1521/PG/Human_Lysozyme_C_P61626/modell...</td>\n",
       "      <td>0.75</td>\n",
       "      <td>0.52</td>\n",
       "      <td>0.566</td>\n",
       "      <td>19.0</td>\n",
       "      <td>2.6</td>\n",
       "      <td>minimum_distance_to_protein</td>\n",
       "      <td>5.42</td>\n",
       "      <td>NaN</td>\n",
       "      <td>True</td>\n",
       "    </tr>\n",
       "  </tbody>\n",
       "</table>\n",
       "</div>"
      ],
      "text/plain": [
       "                                                                                          structure_file  \\\n",
       "model protein_name            ligand_name seed sample                                                      \n",
       "af3   Human_Lysozyme_C_P61626 G-MUR-AemA  85   0       /home/rs1521/PG/Human_Lysozyme_C_P61626/modell...   \n",
       "                                               1       /home/rs1521/PG/Human_Lysozyme_C_P61626/modell...   \n",
       "                                               2       /home/rs1521/PG/Human_Lysozyme_C_P61626/modell...   \n",
       "                                               3       /home/rs1521/PG/Human_Lysozyme_C_P61626/modell...   \n",
       "                                               4       /home/rs1521/PG/Human_Lysozyme_C_P61626/modell...   \n",
       "\n",
       "                                                        ptm  iptm  confidence  \\\n",
       "model protein_name            ligand_name seed sample                           \n",
       "af3   Human_Lysozyme_C_P61626 G-MUR-AemA  85   0       0.77  0.58       0.618   \n",
       "                                               1       0.75  0.51       0.558   \n",
       "                                               2       0.77  0.56       0.602   \n",
       "                                               3       0.75  0.49       0.542   \n",
       "                                               4       0.75  0.52       0.566   \n",
       "\n",
       "                                                       posebusters_score  \\\n",
       "model protein_name            ligand_name seed sample                      \n",
       "af3   Human_Lysozyme_C_P61626 G-MUR-AemA  85   0                    20.0   \n",
       "                                               1                    19.0   \n",
       "                                               2                    19.0   \n",
       "                                               3                    19.0   \n",
       "                                               4                    19.0   \n",
       "\n",
       "                                                       energy_ratio  \\\n",
       "model protein_name            ligand_name seed sample                 \n",
       "af3   Human_Lysozyme_C_P61626 G-MUR-AemA  85   0                2.3   \n",
       "                                               1               25.2   \n",
       "                                               2                3.8   \n",
       "                                               3                3.6   \n",
       "                                               4                2.6   \n",
       "\n",
       "                                                                posebusters_errors  \\\n",
       "model protein_name            ligand_name seed sample                                \n",
       "af3   Human_Lysozyme_C_P61626 G-MUR-AemA  85   0                               NaN   \n",
       "                                               1       minimum_distance_to_protein   \n",
       "                                               2       minimum_distance_to_protein   \n",
       "                                               3       minimum_distance_to_protein   \n",
       "                                               4       minimum_distance_to_protein   \n",
       "\n",
       "                                                       aev_plig_pK  \\\n",
       "model protein_name            ligand_name seed sample                \n",
       "af3   Human_Lysozyme_C_P61626 G-MUR-AemA  85   0              5.13   \n",
       "                                               1              5.73   \n",
       "                                               2              5.52   \n",
       "                                               3              5.32   \n",
       "                                               4              5.42   \n",
       "\n",
       "                                                       aev_plig_pK_norm  \\\n",
       "model protein_name            ligand_name seed sample                     \n",
       "af3   Human_Lysozyme_C_P61626 G-MUR-AemA  85   0                    NaN   \n",
       "                                               1                    NaN   \n",
       "                                               2                    NaN   \n",
       "                                               3                    NaN   \n",
       "                                               4                    NaN   \n",
       "\n",
       "                                                       binding_site  \n",
       "model protein_name            ligand_name seed sample                \n",
       "af3   Human_Lysozyme_C_P61626 G-MUR-AemA  85   0              False  \n",
       "                                               1               True  \n",
       "                                               2               True  \n",
       "                                               3               True  \n",
       "                                               4               True  "
      ]
     },
     "execution_count": 38,
     "metadata": {},
     "output_type": "execute_result"
    }
   ],
   "source": [
    "proteins = [\n",
    "    'Human_Lysozyme_C_P61626',\n",
    "    'Lysostaphin_P10547',\n",
    "    'ZoocinA_O54308',\n",
    "]\n",
    "models = [\n",
    "    'af3',\n",
    "    'boltz',\n",
    "    'chai',\n",
    "    'protenix',\n",
    "]\n",
    "all_scores = pd.concat([\n",
    "    parse_results(protein, model)\n",
    "    for protein in proteins\n",
    "    for model in models\n",
    "])\n",
    "print(f'N = {len(all_scores):,}')\n",
    "all_scores.head()"
   ]
  },
  {
   "cell_type": "markdown",
   "metadata": {},
   "source": [
    "## Evaluate accuracy"
   ]
  },
  {
   "cell_type": "code",
   "execution_count": 42,
   "metadata": {},
   "outputs": [],
   "source": [
    "core_ligands = {\n",
    "    'Human_Lysozyme_C_P61626': ['NAG-NAM-AqKA', 'NAG-NAM-AemA'],\n",
    "    'Lysostaphin_P10547': ['KA-3-NH2-GGGGG-3br-4-qKA'],\n",
    "    'ZoocinA_O54308': ['KA-3-NH2-AA-3br-4-qKA'],\n",
    "}\n",
    "all_core_ligands = []\n",
    "for protein in proteins:\n",
    "    all_core_ligands += core_ligands[protein]"
   ]
  },
  {
   "cell_type": "code",
   "execution_count": 89,
   "metadata": {},
   "outputs": [
    {
     "name": "stdout",
     "output_type": "stream",
     "text": [
      "PoseBusters\n",
      "af3: 164 of 225 (72.9%)\n",
      "\tHuman_Lysozyme_C_P61626: 30 of 75 (40.0%)\n",
      "\tLysostaphin_P10547: 65 of 75 (86.7%)\n",
      "\tZoocinA_O54308: 69 of 75 (92.0%)\n",
      "\n",
      "boltz: 82 of 225 (36.4%)\n",
      "\tHuman_Lysozyme_C_P61626: 16 of 75 (21.3%)\n",
      "\tLysostaphin_P10547: 35 of 75 (46.7%)\n",
      "\tZoocinA_O54308: 31 of 75 (41.3%)\n",
      "\n",
      "chai: 130 of 225 (57.8%)\n",
      "\tHuman_Lysozyme_C_P61626: 37 of 75 (49.3%)\n",
      "\tLysostaphin_P10547: 54 of 75 (72.0%)\n",
      "\tZoocinA_O54308: 39 of 75 (52.0%)\n",
      "\n",
      "protenix: 120 of 225 (53.3%)\n",
      "\tHuman_Lysozyme_C_P61626: 29 of 75 (38.7%)\n",
      "\tLysostaphin_P10547: 57 of 75 (76.0%)\n",
      "\tZoocinA_O54308: 34 of 75 (45.3%)\n",
      "\n"
     ]
    }
   ],
   "source": [
    "print('PoseBusters')\n",
    "for model in models:\n",
    "    df = all_scores.loc[model].reset_index()\n",
    "    n = len(df[(df['posebusters_score'] == 20)])\n",
    "    print(f'{model}: {n:,} of {len(df):,} ({100 * n / len(df):.1f}%)')\n",
    "\n",
    "    for protein in proteins:\n",
    "        df = all_scores.loc[model].reset_index()\n",
    "        df = df[df['protein_name'].str.startswith(protein)]\n",
    "        n = len(df[(df['posebusters_score'] == 20)])\n",
    "        print(f'\\t{protein}: {n:,} of {len(df):,} ({100 * n / len(df):.1f}%)')\n",
    "    \n",
    "    print()"
   ]
  },
  {
   "cell_type": "code",
   "execution_count": 90,
   "metadata": {},
   "outputs": [
    {
     "name": "stdout",
     "output_type": "stream",
     "text": [
      "Binding site contact (PLIP)\n",
      "af3: 51 of 70 (72.9%)\n",
      "\tHuman_Lysozyme_C_P61626: 74 of 75 (98.7%)\n",
      "\tLysostaphin_P10547: 34 of 75 (45.3%)\n",
      "\tZoocinA_O54308: 63 of 75 (84.0%)\n",
      "\n",
      "boltz: 28 of 36 (77.8%)\n",
      "\tHuman_Lysozyme_C_P61626: 68 of 75 (90.7%)\n",
      "\tLysostaphin_P10547: 35 of 75 (46.7%)\n",
      "\tZoocinA_O54308: 64 of 75 (85.3%)\n",
      "\n",
      "chai: 48 of 57 (84.2%)\n",
      "\tHuman_Lysozyme_C_P61626: 71 of 75 (94.7%)\n",
      "\tLysostaphin_P10547: 59 of 75 (78.7%)\n",
      "\tZoocinA_O54308: 68 of 75 (90.7%)\n",
      "\n",
      "protenix: 21 of 42 (50.0%)\n",
      "\tHuman_Lysozyme_C_P61626: 75 of 75 (100.0%)\n",
      "\tLysostaphin_P10547: 8 of 75 (10.7%)\n",
      "\tZoocinA_O54308: 27 of 75 (36.0%)\n",
      "\n"
     ]
    }
   ],
   "source": [
    "print('Binding site contact (PLIP)')\n",
    "for model in models:\n",
    "    df = all_scores[all_scores['posebusters_score'] == 20].loc[model].reset_index()\n",
    "    df = df[df['ligand_name'].isin(all_core_ligands)]\n",
    "    n = len(df[df['binding_site']])\n",
    "    print(f'{model}: {n:,} of {len(df):,} ({100 * n / len(df):.1f}%)')\n",
    "\n",
    "    for protein in proteins:\n",
    "        df = all_scores.loc[model].reset_index()\n",
    "        df = df[df['protein_name'].str.startswith(protein)]\n",
    "        n = len(df[df['binding_site']])\n",
    "        print(f'\\t{protein}: {n:,} of {len(df):,} ({100 * n / len(df):.1f}%)')\n",
    "\n",
    "    print()"
   ]
  },
  {
   "cell_type": "markdown",
   "metadata": {},
   "source": [
    "## Evaluate confidence predictions"
   ]
  },
  {
   "cell_type": "markdown",
   "metadata": {},
   "source": [
    "How often are the core ligands first?"
   ]
  },
  {
   "cell_type": "code",
   "execution_count": 84,
   "metadata": {},
   "outputs": [
    {
     "name": "stdout",
     "output_type": "stream",
     "text": [
      "Confidence\n",
      "af3: 2 of 3 (66.7%)\n",
      "boltz: 0 of 3 (0.0%)\n",
      "chai: 2 of 3 (66.7%)\n",
      "protenix: 0 of 3 (0.0%)\n"
     ]
    }
   ],
   "source": [
    "print('Confidence')\n",
    "for model in models:\n",
    "    n_top = 0\n",
    "    for protein in proteins:\n",
    "        df = all_scores[all_scores['posebusters_score'] == 20].loc[model].reset_index()\n",
    "        df = df[\n",
    "            (df['protein_name'].str.startswith(protein))\n",
    "        ].sort_values('confidence', ascending=False).drop_duplicates(\n",
    "            ['protein_name', 'ligand_name']\n",
    "        )\n",
    "\n",
    "        for ligand_name in df['ligand_name']:\n",
    "            if ligand_name in core_ligands[protein]:\n",
    "                n_top += 1\n",
    "            else:\n",
    "                break\n",
    "\n",
    "    print(f'{model}: {n_top:,} of {len(proteins):,} ({100 * n_top / len(proteins):.1f}%)')\n"
   ]
  },
  {
   "cell_type": "markdown",
   "metadata": {},
   "source": [
    "How often do the core ligands beat the main negative control?"
   ]
  },
  {
   "cell_type": "code",
   "execution_count": 85,
   "metadata": {},
   "outputs": [
    {
     "name": "stdout",
     "output_type": "stream",
     "text": [
      "af3: 3 of 3 (100.0%)\n",
      "boltz: 1 of 3 (33.3%)\n",
      "chai: 2 of 3 (66.7%)\n",
      "protenix: 2 of 3 (66.7%)\n"
     ]
    }
   ],
   "source": [
    "lipid_ligand_name = 'lipid-3S-citryl-CoA'\n",
    "\n",
    "for model in models:\n",
    "    n_top = 0\n",
    "    for protein in proteins:\n",
    "        df = all_scores[all_scores['posebusters_score'] == 20].loc[model].reset_index()\n",
    "        df = df[\n",
    "            (df['protein_name'].str.startswith(protein))\n",
    "        ].sort_values('confidence', ascending=False).drop_duplicates(\n",
    "            ['protein_name', 'ligand_name']\n",
    "        )\n",
    "\n",
    "        s1 = df[df['ligand_name'].isin(core_ligands[protein])]['confidence'].iloc[0]\n",
    "        s2 = df[df['ligand_name'] == lipid_ligand_name]['confidence'].iloc[0]\n",
    "        if s1 > s2:\n",
    "            n_top += 1\n",
    "\n",
    "    print(f'{model}: {n_top:,} of {len(proteins):,} ({100 * n_top / len(proteins):.1f}%)')\n"
   ]
  },
  {
   "cell_type": "markdown",
   "metadata": {},
   "source": [
    "Core ligands only: how often is the accurate prediction first?"
   ]
  },
  {
   "cell_type": "code",
   "execution_count": 86,
   "metadata": {},
   "outputs": [
    {
     "name": "stdout",
     "output_type": "stream",
     "text": [
      "Confidence\n",
      "af3: 2 of 3 (66.7%)\n",
      "boltz: 3 of 3 (100.0%)\n",
      "chai: 3 of 3 (100.0%)\n",
      "protenix: 2 of 3 (66.7%)\n"
     ]
    }
   ],
   "source": [
    "print('Confidence')\n",
    "for model in models:\n",
    "    n_top = 0\n",
    "    for protein in proteins:\n",
    "        df = all_scores[all_scores['posebusters_score'] == 20].loc[model].reset_index()\n",
    "        df = df[\n",
    "            (df['protein_name'].str.startswith(protein)) &\n",
    "            df['ligand_name'].isin(core_ligands[protein])\n",
    "        ].sort_values('confidence', ascending=False)\n",
    "\n",
    "        best_row = df.iloc[0]\n",
    "        if best_row['binding_site']:\n",
    "            n_top += 1\n",
    "\n",
    "    print(f'{model}: {n_top:,} of {len(proteins):,} ({100 * n_top / len(proteins):.1f}%)')\n"
   ]
  },
  {
   "cell_type": "code",
   "execution_count": null,
   "metadata": {},
   "outputs": [],
   "source": []
  }
 ],
 "metadata": {
  "kernelspec": {
   "display_name": "cwb",
   "language": "python",
   "name": "python3"
  },
  "language_info": {
   "codemirror_mode": {
    "name": "ipython",
    "version": 3
   },
   "file_extension": ".py",
   "mimetype": "text/x-python",
   "name": "python",
   "nbconvert_exporter": "python",
   "pygments_lexer": "ipython3",
   "version": "3.11.11"
  }
 },
 "nbformat": 4,
 "nbformat_minor": 2
}
