{
 "cells": [
  {
   "cell_type": "markdown",
   "metadata": {},
   "source": [
    "# Streptococcus tree\n",
    "\n",
    "- Genomes: all Streptococci complete genomes from GTBD r220\n",
    "- Tree: built with [GTDB-Tk de-novo](https://ecogenomics.github.io/GTDBTk/commands/de_novo_wf.html) pipeline.\n",
    "\n",
    "Below is code to annotate the tree with the preence or absence of different cell wall binding domains."
   ]
  },
  {
   "cell_type": "code",
   "execution_count": 2,
   "metadata": {},
   "outputs": [],
   "source": [
    "import os\n",
    "from pathlib import Path\n",
    "\n",
    "import numpy as np\n",
    "import pandas as pd\n",
    "import matplotlib as plt\n",
    "import seaborn as sns\n",
    "from Bio import Phylo\n",
    "\n",
    "cwd = os.getcwd()\n",
    "if cwd.endswith('notebook'):\n",
    "    os.chdir('..')\n",
    "    cwd = os.getcwd()\n",
    "\n",
    "from src.cell_wall_binding_domains import cwb_domains\n",
    "from src.tree.tree_util import prune_leaves_with_unknown_id\n",
    "from src.tree.itol_annotation import itol_labels, itol_colored_ranges, itol_binary_annotations, hex_to_rgba"
   ]
  },
  {
   "cell_type": "code",
   "execution_count": 3,
   "metadata": {},
   "outputs": [],
   "source": [
    "sns.set_theme(palette='colorblind', font_scale=1.3)\n",
    "palette_colorblind = sns.color_palette('colorblind').as_hex()\n",
    "palette_pastel = sns.color_palette('pastel').as_hex()\n",
    "\n",
    "data_folder = Path('./data/')\n",
    "assert data_folder.is_dir()\n",
    "\n",
    "db_proka = Path('../db_proka/')\n",
    "assert db_proka.is_dir()\n",
    "\n",
    "gtdb_folder = Path('../data/gtdb_r220/')\n",
    "assert gtdb_folder.is_dir()\n",
    "\n",
    "strep_folder = gtdb_folder / 'Streptococcus'\n",
    "assert strep_folder.is_dir()"
   ]
  },
  {
   "cell_type": "markdown",
   "metadata": {},
   "source": [
    "## Load metadata"
   ]
  },
  {
   "cell_type": "code",
   "execution_count": 4,
   "metadata": {},
   "outputs": [
    {
     "data": {
      "text/plain": [
       "1228"
      ]
     },
     "execution_count": 4,
     "metadata": {},
     "output_type": "execute_result"
    }
   ],
   "source": [
    "metadata_df = pd.read_csv(strep_folder / 'genomes_metadata.csv', index_col='assembly_accession')\n",
    "len(metadata_df)"
   ]
  },
  {
   "cell_type": "markdown",
   "metadata": {},
   "source": [
    "## Load & prune tree"
   ]
  },
  {
   "cell_type": "code",
   "execution_count": 5,
   "metadata": {},
   "outputs": [],
   "source": [
    "raw_tree = Phylo.read(strep_folder / 'GTDB-Tk_de_novo' / 'Streptococcus.bac120.decorated.tree', 'newick')\n",
    "\n",
    "strep_ids = set()\n",
    "for leaf in raw_tree.get_terminals():\n",
    "    if leaf.name.startswith('GC'):\n",
    "        strep_id = '_'.join(leaf.name.split('_')[:2])\n",
    "        leaf.name = strep_id\n",
    "        strep_ids.add(strep_id)\n",
    "\n",
    "assert len(strep_ids) == len(metadata_df)\n",
    "\n",
    "tree = prune_leaves_with_unknown_id(raw_tree, strep_ids)\n",
    "\n",
    "assert len([l for l in tree.get_terminals()]) == len(metadata_df)\n",
    "\n",
    "def label_common_ancestor(tree, leaf_ids, label):\n",
    "    leaf_clades = [tree.find_any(name) for name in leaf_ids]\n",
    "    common_ancestor = tree.common_ancestor(leaf_clades)\n",
    "    common_ancestor.name = label\n",
    "\n",
    "top_10_strep_species = metadata_df['gtdb_species'].value_counts()[:10].index.tolist()\n",
    "for species in top_10_strep_species:\n",
    "    ids = metadata_df[metadata_df['gtdb_species'] == species].index.tolist()\n",
    "    label_common_ancestor(tree, ids, f's__{species}')\n",
    "\n",
    "strep_tree_path = strep_folder / 'tree' / 'Streptococcus.tree'\n",
    "with strep_tree_path.open('w') as f_out:\n",
    "    Phylo.write([tree], f_out, 'phyloxml')\n",
    "\n",
    "tree = Phylo.read(strep_tree_path, 'phyloxml')"
   ]
  },
  {
   "cell_type": "markdown",
   "metadata": {},
   "source": [
    "## Annotate"
   ]
  },
  {
   "cell_type": "markdown",
   "metadata": {},
   "source": [
    "### Labels"
   ]
  },
  {
   "cell_type": "code",
   "execution_count": 6,
   "metadata": {},
   "outputs": [],
   "source": [
    "labels = []\n",
    "for accession in metadata_df.index:\n",
    "    ncbi_organism_name = metadata_df.loc[accession, 'ncbi_organism_name']\n",
    "    label = f'{ncbi_organism_name} [{accession}]'\n",
    "    labels.append([accession, label])\n",
    "\n",
    "itol_labels(\n",
    "    labels, \n",
    "    strep_folder / 'tree' / 'labels.txt'\n",
    ")"
   ]
  },
  {
   "cell_type": "markdown",
   "metadata": {},
   "source": [
    "### Colored ranges\n",
    "\n",
    "Covering the main main Streptocci species."
   ]
  },
  {
   "cell_type": "code",
   "execution_count": 7,
   "metadata": {},
   "outputs": [],
   "source": [
    "strep_species_colored_ranges = []\n",
    "\n",
    "for species in top_10_strep_species:\n",
    "    color_index = top_10_strep_species.index(species)\n",
    "    color = palette_pastel[color_index]\n",
    "\n",
    "    node_id = f's__{species}'\n",
    "    strep_species_colored_ranges.append(\n",
    "        [node_id, node_id, hex_to_rgba(color, 0.25), '', '', '', '', species, '', '30', 'bold-italic']\n",
    "    )\n",
    "\n",
    "itol_colored_ranges(\n",
    "    strep_species_colored_ranges,\n",
    "    output_path=strep_folder / 'tree' / 'species_colored_range.txt',\n",
    "    range_type='box',\n",
    "    range_cover='tree',\n",
    "    dataset_label='Species',\n",
    ")"
   ]
  },
  {
   "cell_type": "markdown",
   "metadata": {},
   "source": [
    "### Binary annotations: presence or absence of CWB domains"
   ]
  },
  {
   "cell_type": "code",
   "execution_count": 8,
   "metadata": {},
   "outputs": [
    {
     "data": {
      "text/html": [
       "<div>\n",
       "<style scoped>\n",
       "    .dataframe tbody tr th:only-of-type {\n",
       "        vertical-align: middle;\n",
       "    }\n",
       "\n",
       "    .dataframe tbody tr th {\n",
       "        vertical-align: top;\n",
       "    }\n",
       "\n",
       "    .dataframe thead th {\n",
       "        text-align: right;\n",
       "    }\n",
       "</style>\n",
       "<table border=\"1\" class=\"dataframe\">\n",
       "  <thead>\n",
       "    <tr style=\"text-align: right;\">\n",
       "      <th></th>\n",
       "      <th>gtdb_species</th>\n",
       "      <th>PG_binding_1</th>\n",
       "      <th>PG_binding_2</th>\n",
       "      <th>PG_binding_3</th>\n",
       "      <th>AMIN</th>\n",
       "      <th>SPOR</th>\n",
       "      <th>SH3_1</th>\n",
       "      <th>SH3_2</th>\n",
       "      <th>SH3_3</th>\n",
       "      <th>SH3_4</th>\n",
       "      <th>...</th>\n",
       "      <th>Choline_bind_1</th>\n",
       "      <th>Choline_bind_2</th>\n",
       "      <th>Choline_bind_3</th>\n",
       "      <th>CW_binding_2</th>\n",
       "      <th>CW_7</th>\n",
       "      <th>PSA_CBD</th>\n",
       "      <th>ZoocinA_TRD</th>\n",
       "      <th>GW</th>\n",
       "      <th>OapA</th>\n",
       "      <th>WxL</th>\n",
       "    </tr>\n",
       "    <tr>\n",
       "      <th>assembly_accession</th>\n",
       "      <th></th>\n",
       "      <th></th>\n",
       "      <th></th>\n",
       "      <th></th>\n",
       "      <th></th>\n",
       "      <th></th>\n",
       "      <th></th>\n",
       "      <th></th>\n",
       "      <th></th>\n",
       "      <th></th>\n",
       "      <th></th>\n",
       "      <th></th>\n",
       "      <th></th>\n",
       "      <th></th>\n",
       "      <th></th>\n",
       "      <th></th>\n",
       "      <th></th>\n",
       "      <th></th>\n",
       "      <th></th>\n",
       "      <th></th>\n",
       "      <th></th>\n",
       "    </tr>\n",
       "  </thead>\n",
       "  <tbody>\n",
       "    <tr>\n",
       "      <th>GCA_000013525.1</th>\n",
       "      <td>Streptococcus pyogenes</td>\n",
       "      <td>0</td>\n",
       "      <td>0</td>\n",
       "      <td>0</td>\n",
       "      <td>0</td>\n",
       "      <td>0</td>\n",
       "      <td>0</td>\n",
       "      <td>0</td>\n",
       "      <td>0</td>\n",
       "      <td>0</td>\n",
       "      <td>...</td>\n",
       "      <td>0</td>\n",
       "      <td>0</td>\n",
       "      <td>0</td>\n",
       "      <td>0</td>\n",
       "      <td>0</td>\n",
       "      <td>0</td>\n",
       "      <td>0</td>\n",
       "      <td>0</td>\n",
       "      <td>0</td>\n",
       "      <td>0</td>\n",
       "    </tr>\n",
       "    <tr>\n",
       "      <th>GCA_000014305.1</th>\n",
       "      <td>Streptococcus suis</td>\n",
       "      <td>0</td>\n",
       "      <td>0</td>\n",
       "      <td>0</td>\n",
       "      <td>0</td>\n",
       "      <td>0</td>\n",
       "      <td>0</td>\n",
       "      <td>0</td>\n",
       "      <td>0</td>\n",
       "      <td>0</td>\n",
       "      <td>...</td>\n",
       "      <td>0</td>\n",
       "      <td>0</td>\n",
       "      <td>0</td>\n",
       "      <td>0</td>\n",
       "      <td>0</td>\n",
       "      <td>0</td>\n",
       "      <td>0</td>\n",
       "      <td>0</td>\n",
       "      <td>0</td>\n",
       "      <td>0</td>\n",
       "    </tr>\n",
       "    <tr>\n",
       "      <th>GCA_000014325.1</th>\n",
       "      <td>Streptococcus suis</td>\n",
       "      <td>0</td>\n",
       "      <td>0</td>\n",
       "      <td>0</td>\n",
       "      <td>0</td>\n",
       "      <td>0</td>\n",
       "      <td>0</td>\n",
       "      <td>0</td>\n",
       "      <td>0</td>\n",
       "      <td>0</td>\n",
       "      <td>...</td>\n",
       "      <td>0</td>\n",
       "      <td>0</td>\n",
       "      <td>0</td>\n",
       "      <td>0</td>\n",
       "      <td>0</td>\n",
       "      <td>0</td>\n",
       "      <td>0</td>\n",
       "      <td>0</td>\n",
       "      <td>0</td>\n",
       "      <td>0</td>\n",
       "    </tr>\n",
       "    <tr>\n",
       "      <th>GCA_000188715.1</th>\n",
       "      <td>Streptococcus dysgalactiae</td>\n",
       "      <td>0</td>\n",
       "      <td>0</td>\n",
       "      <td>0</td>\n",
       "      <td>0</td>\n",
       "      <td>0</td>\n",
       "      <td>0</td>\n",
       "      <td>0</td>\n",
       "      <td>0</td>\n",
       "      <td>0</td>\n",
       "      <td>...</td>\n",
       "      <td>0</td>\n",
       "      <td>0</td>\n",
       "      <td>0</td>\n",
       "      <td>0</td>\n",
       "      <td>0</td>\n",
       "      <td>0</td>\n",
       "      <td>0</td>\n",
       "      <td>0</td>\n",
       "      <td>0</td>\n",
       "      <td>0</td>\n",
       "    </tr>\n",
       "    <tr>\n",
       "      <th>GCA_000211095.1</th>\n",
       "      <td>Streptococcus pneumoniae</td>\n",
       "      <td>0</td>\n",
       "      <td>0</td>\n",
       "      <td>0</td>\n",
       "      <td>0</td>\n",
       "      <td>0</td>\n",
       "      <td>0</td>\n",
       "      <td>0</td>\n",
       "      <td>0</td>\n",
       "      <td>0</td>\n",
       "      <td>...</td>\n",
       "      <td>1</td>\n",
       "      <td>1</td>\n",
       "      <td>1</td>\n",
       "      <td>0</td>\n",
       "      <td>0</td>\n",
       "      <td>0</td>\n",
       "      <td>0</td>\n",
       "      <td>0</td>\n",
       "      <td>0</td>\n",
       "      <td>0</td>\n",
       "    </tr>\n",
       "  </tbody>\n",
       "</table>\n",
       "<p>5 rows × 26 columns</p>\n",
       "</div>"
      ],
      "text/plain": [
       "                                  gtdb_species  PG_binding_1  PG_binding_2  \\\n",
       "assembly_accession                                                           \n",
       "GCA_000013525.1         Streptococcus pyogenes             0             0   \n",
       "GCA_000014305.1             Streptococcus suis             0             0   \n",
       "GCA_000014325.1             Streptococcus suis             0             0   \n",
       "GCA_000188715.1     Streptococcus dysgalactiae             0             0   \n",
       "GCA_000211095.1       Streptococcus pneumoniae             0             0   \n",
       "\n",
       "                    PG_binding_3  AMIN  SPOR  SH3_1  SH3_2  SH3_3  SH3_4  ...  \\\n",
       "assembly_accession                                                        ...   \n",
       "GCA_000013525.1                0     0     0      0      0      0      0  ...   \n",
       "GCA_000014305.1                0     0     0      0      0      0      0  ...   \n",
       "GCA_000014325.1                0     0     0      0      0      0      0  ...   \n",
       "GCA_000188715.1                0     0     0      0      0      0      0  ...   \n",
       "GCA_000211095.1                0     0     0      0      0      0      0  ...   \n",
       "\n",
       "                    Choline_bind_1  Choline_bind_2  Choline_bind_3  \\\n",
       "assembly_accession                                                   \n",
       "GCA_000013525.1                  0               0               0   \n",
       "GCA_000014305.1                  0               0               0   \n",
       "GCA_000014325.1                  0               0               0   \n",
       "GCA_000188715.1                  0               0               0   \n",
       "GCA_000211095.1                  1               1               1   \n",
       "\n",
       "                    CW_binding_2  CW_7  PSA_CBD  ZoocinA_TRD  GW  OapA  WxL  \n",
       "assembly_accession                                                           \n",
       "GCA_000013525.1                0     0        0            0   0     0    0  \n",
       "GCA_000014305.1                0     0        0            0   0     0    0  \n",
       "GCA_000014325.1                0     0        0            0   0     0    0  \n",
       "GCA_000188715.1                0     0        0            0   0     0    0  \n",
       "GCA_000211095.1                0     0        0            0   0     0    0  \n",
       "\n",
       "[5 rows x 26 columns]"
      ]
     },
     "execution_count": 8,
     "metadata": {},
     "output_type": "execute_result"
    }
   ],
   "source": [
    "cwb_bins = pd.read_csv(strep_folder / 'Streptococcus_cell_wall_binding.csv', index_col='assembly_accession')\n",
    "cwb_bins.head()"
   ]
  },
  {
   "cell_type": "code",
   "execution_count": 9,
   "metadata": {},
   "outputs": [
    {
     "data": {
      "text/plain": [
       "['LysM',\n",
       " 'SH3_5',\n",
       " 'Choline_bind_3',\n",
       " 'Choline_bind_1',\n",
       " 'Choline_bind_2',\n",
       " 'ZoocinA_TRD',\n",
       " 'CW_7',\n",
       " 'GW',\n",
       " 'SH3_3']"
      ]
     },
     "execution_count": 9,
     "metadata": {},
     "output_type": "execute_result"
    }
   ],
   "source": [
    "cwb_present_in_strep_with_count = []\n",
    "for cwb in cwb_domains:\n",
    "    count = cwb_bins[cwb].sum()\n",
    "    if count > 0:\n",
    "        cwb_present_in_strep_with_count.append((cwb, int(count)))\n",
    "\n",
    "cwb_present_in_strep = [cwb for cwb, _ in sorted(cwb_present_in_strep_with_count, key=lambda t: t[1], reverse=True)]\n",
    "cwb_present_in_strep"
   ]
  },
  {
   "cell_type": "code",
   "execution_count": 10,
   "metadata": {},
   "outputs": [],
   "source": [
    "cwb_to_name = {\n",
    "    'LysM': 'Lysine Motif (LysM)',\n",
    "    'SH3_5': 'Src Homology 3 (SH3)',\n",
    "    'Choline_bind_3': 'Choline binding domain',\n",
    "    'Choline_bind_1': 'Choline binding domain',\n",
    "    'Choline_bind_2': 'Choline binding domain',\n",
    "    'ZoocinA_TRD': 'Zoocin A target recognition domain',\n",
    "    'CW_7' : 'Cell wall binding motif 7 (CW_7)',\n",
    "    'GW': 'GlyTryp dipeptide domain (GW)',\n",
    "    'SH3_3': 'Src Homology 3 (SH3)',\n",
    "}\n",
    "name_to_cwb = {}\n",
    "for cwb in sorted(cwb_to_name.keys()):\n",
    "    name = cwb_to_name[cwb]\n",
    "    if name not in name_to_cwb:\n",
    "        name_to_cwb[name] = []\n",
    "\n",
    "    name_to_cwb[name].append(cwb)"
   ]
  },
  {
   "cell_type": "code",
   "execution_count": 11,
   "metadata": {},
   "outputs": [
    {
     "data": {
      "text/plain": [
       "['Lysine Motif (LysM)',\n",
       " 'Src Homology 3 (SH3)',\n",
       " 'Choline binding domain',\n",
       " 'Zoocin A target recognition domain',\n",
       " 'Cell wall binding motif 7 (CW_7)',\n",
       " 'GlyTryp dipeptide domain (GW)']"
      ]
     },
     "execution_count": 11,
     "metadata": {},
     "output_type": "execute_result"
    }
   ],
   "source": [
    "final_cwb_list = []\n",
    "for cwb in cwb_present_in_strep:\n",
    "    name = cwb_to_name[cwb]\n",
    "    if name not in final_cwb_list:\n",
    "        final_cwb_list.append(name)\n",
    "\n",
    "final_cwb_list"
   ]
  },
  {
   "cell_type": "code",
   "execution_count": 12,
   "metadata": {},
   "outputs": [],
   "source": [
    "cwb_binary_presence_data = []\n",
    "for accession in sorted(cwb_bins.index):\n",
    "    cwb_list = []\n",
    "    for cwb_label in final_cwb_list:\n",
    "        is_present = False\n",
    "        for cwb in name_to_cwb[cwb_label]:\n",
    "            count = cwb_bins.loc[accession, cwb]\n",
    "            if count > 0:\n",
    "                is_present = True\n",
    "\n",
    "        cwb_list.append('1' if is_present else '-1')\n",
    "\n",
    "    cwb_binary_presence_data.append([accession] + cwb_list)\n",
    "\n",
    "n_domains = len(final_cwb_list)\n",
    "itol_binary_annotations(\n",
    "    data=cwb_binary_presence_data,\n",
    "    output_path=strep_folder / 'tree' / 'cwb_binary_presence.txt',\n",
    "    field_shapes=[1] * n_domains,\n",
    "    field_labels=final_cwb_list,\n",
    "    dataset_label='CWB',\n",
    "    field_colors=[palette_colorblind[i] for i in range(n_domains)],\n",
    "    legend_title='Cell wall binding domains',\n",
    "    height_factor=10,\n",
    ")"
   ]
  },
  {
   "cell_type": "code",
   "execution_count": null,
   "metadata": {},
   "outputs": [],
   "source": []
  }
 ],
 "metadata": {
  "kernelspec": {
   "display_name": "cwb",
   "language": "python",
   "name": "python3"
  },
  "language_info": {
   "codemirror_mode": {
    "name": "ipython",
    "version": 3
   },
   "file_extension": ".py",
   "mimetype": "text/x-python",
   "name": "python",
   "nbconvert_exporter": "python",
   "pygments_lexer": "ipython3",
   "version": "3.11.9"
  }
 },
 "nbformat": 4,
 "nbformat_minor": 2
}
