{
 "cells": [
  {
   "cell_type": "markdown",
   "metadata": {},
   "source": [
    "# Bacterial dataset #1\n",
    "\n",
    "## Protein domains\n",
    "\n",
    "For all bacteria in `db_proka`:\n",
    "\n",
    "- Retrieve all Pfam & TIGR domains present in at least 10% of all genomes (~5,000 out of 50,000)\n",
    "- Binarization (presence or absence in genome)\n",
    "\n",
    "## Phylogeny\n",
    "\n",
    "- Create binary variables for all `gtdb_order`"
   ]
  },
  {
   "cell_type": "code",
   "execution_count": 1,
   "metadata": {},
   "outputs": [],
   "source": [
    "import os\n",
    "from pathlib import Path\n",
    "\n",
    "import numpy as np\n",
    "import pandas as pd\n",
    "import matplotlib as plt\n",
    "import seaborn as sns\n",
    "\n",
    "cwd = os.getcwd()\n",
    "if cwd.endswith('notebook'):\n",
    "    os.chdir('..')\n",
    "    cwd = os.getcwd()"
   ]
  },
  {
   "cell_type": "code",
   "execution_count": 2,
   "metadata": {},
   "outputs": [],
   "source": [
    "sns.set_theme(palette='colorblind', font_scale=1.3)\n",
    "palette = sns.color_palette().as_hex()\n",
    "\n",
    "data_folder = Path('./data/')\n",
    "assert data_folder.is_dir()\n",
    "\n",
    "db_proka = Path('../db_proka/')\n",
    "assert db_proka.is_dir()"
   ]
  },
  {
   "cell_type": "markdown",
   "metadata": {},
   "source": [
    "## Load GTDB metadata file"
   ]
  },
  {
   "cell_type": "code",
   "execution_count": 3,
   "metadata": {},
   "outputs": [],
   "source": [
    "gtdb_metadata = pd.read_csv(db_proka / 'gtdb_metadata.csv')\n",
    "gtdb_metadata['domain'] = gtdb_metadata['gtdb_taxonomy'].apply(lambda t: t.split(';')[0].replace('d__', ''))\n",
    "gtdb_metadata['gtdb_phylum'] = gtdb_metadata['gtdb_taxonomy'].apply(lambda t: t.split(';')[1].replace('p__', ''))\n",
    "gtdb_metadata['gtdb_class'] = gtdb_metadata['gtdb_taxonomy'].apply(lambda t: t.split(';')[2].replace('c__', ''))\n",
    "gtdb_metadata['gtdb_order'] = gtdb_metadata['gtdb_taxonomy'].apply(lambda t: t.split(';')[3].replace('o__', ''))\n",
    "gtdb_metadata['gtdb_family'] = gtdb_metadata['gtdb_taxonomy'].apply(lambda t: t.split(';')[4].replace('f__', ''))\n",
    "gtdb_metadata['gtdb_genus'] = gtdb_metadata['gtdb_taxonomy'].apply(lambda t: t.split(';')[5].replace('g__', ''))\n",
    "gtdb_metadata['gtdb_species'] = gtdb_metadata['gtdb_taxonomy'].apply(lambda t: t.split(';')[6].replace('s__', ''))\n",
    "gtdb_metadata = gtdb_metadata.set_index('ncbi_accession', drop=True)\n",
    "bacterial_genomes = gtdb_metadata[gtdb_metadata['domain'] == 'Bacteria']"
   ]
  },
  {
   "cell_type": "code",
   "execution_count": 4,
   "metadata": {},
   "outputs": [
    {
     "name": "stdout",
     "output_type": "stream",
     "text": [
      "Number of bacterial genomes: 50,640\n",
      "Number of phyla: 181\n",
      "Number of class: 490\n",
      "Number of order: 1,653\n",
      "Number of families: 4,304\n",
      "Number of genera: 19,144\n",
      "Number of species: 50,640\n"
     ]
    }
   ],
   "source": [
    "n_bacteria = len(bacterial_genomes)\n",
    "print(f'Number of bacterial genomes: {n_bacteria:,}')\n",
    "\n",
    "n_phyla = len(bacterial_genomes['gtdb_phylum'].unique())\n",
    "print(f'Number of phyla: {n_phyla:,}')\n",
    "\n",
    "n_class = len(bacterial_genomes['gtdb_class'].unique())\n",
    "print(f'Number of class: {n_class:,}')\n",
    "\n",
    "n_order = len(bacterial_genomes['gtdb_order'].unique())\n",
    "print(f'Number of order: {n_order:,}')\n",
    "\n",
    "n_families = len(bacterial_genomes['gtdb_family'].unique())\n",
    "print(f'Number of families: {n_families:,}')\n",
    "\n",
    "n_genera = len(bacterial_genomes['gtdb_genus'].unique())\n",
    "print(f'Number of genera: {n_genera:,}')\n",
    "\n",
    "n_species = len(bacterial_genomes['gtdb_species'].unique())\n",
    "print(f'Number of species: {n_species:,}')"
   ]
  },
  {
   "cell_type": "markdown",
   "metadata": {},
   "source": [
    "### Genome selection\n",
    "\n",
    "Keep only genomes at least 90% complete."
   ]
  },
  {
   "cell_type": "code",
   "execution_count": 5,
   "metadata": {},
   "outputs": [
    {
     "name": "stdout",
     "output_type": "stream",
     "text": [
      "Number of genomes at least 90% complete: 32,549 out of 50,700 (64 %)\n"
     ]
    }
   ],
   "source": [
    "bacterial_index = bacterial_genomes[bacterial_genomes['checkm_completeness'] > 90].index\n",
    "\n",
    "p = 100 * len(bacterial_index) / n_bacteria\n",
    "print(f'Number of genomes at least 90% complete: {len(bacterial_index):,} out of {n_bacteria:,} ({p:.0f} %)')"
   ]
  },
  {
   "cell_type": "markdown",
   "metadata": {},
   "source": [
    "## Process Pfam summary table"
   ]
  },
  {
   "cell_type": "code",
   "execution_count": 10,
   "metadata": {},
   "outputs": [],
   "source": [
    "pfam_summary = pd.read_csv(db_proka / 'Pfam-A_summary.tsv.gz', sep='\\t', index_col='assembly_accession')"
   ]
  },
  {
   "cell_type": "code",
   "execution_count": 7,
   "metadata": {},
   "outputs": [
    {
     "name": "stdout",
     "output_type": "stream",
     "text": [
      "Number bacterial records in Pfam: 32,507\n",
      "Number Pfam domains: 19,632\n"
     ]
    }
   ],
   "source": [
    "pfam_summary = pfam_summary.drop(columns=['asm_name'])\n",
    "\n",
    "pfam_bacteria = pfam_summary.loc[\n",
    "    sorted(set(pfam_summary.index) & set(bacterial_index))\n",
    "]\n",
    "\n",
    "pfam_domains = pfam_bacteria.columns\n",
    "\n",
    "print(f'Number bacterial records in Pfam: {len(pfam_bacteria):,}')\n",
    "print(f'Number Pfam domains: {len(pfam_domains):,}')"
   ]
  },
  {
   "cell_type": "markdown",
   "metadata": {},
   "source": [
    "### Domain selection\n",
    "\n",
    "Get domains present at least in 10% of all genomes & at least not in one genome."
   ]
  },
  {
   "cell_type": "code",
   "execution_count": 8,
   "metadata": {},
   "outputs": [
    {
     "name": "stdout",
     "output_type": "stream",
     "text": [
      "Number of Pfam domains present in at least 10% of all genomes: 3,981\n"
     ]
    }
   ],
   "source": [
    "sum_df = (pfam_bacteria > 0).sum()\n",
    "relevant_domains = pfam_bacteria.columns[\n",
    "    (sum_df >= 0.1 * len(pfam_bacteria)) &\n",
    "    (sum_df  < 1.0 * len(pfam_bacteria))\n",
    "]\n",
    "print(f'Number of Pfam domains present in at least 10% of all genomes: {len(relevant_domains):,}')"
   ]
  },
  {
   "cell_type": "code",
   "execution_count": 9,
   "metadata": {},
   "outputs": [],
   "source": [
    "binarized_dataset = (pfam_bacteria[relevant_domains] > 0).astype(int)\n",
    "binarized_dataset.to_csv(data_folder / 'pfam_bacteria.csv')"
   ]
  },
  {
   "cell_type": "markdown",
   "metadata": {},
   "source": [
    "## Process TIGR summary table"
   ]
  },
  {
   "cell_type": "code",
   "execution_count": 10,
   "metadata": {},
   "outputs": [
    {
     "name": "stdout",
     "output_type": "stream",
     "text": [
      "Number bacterial records in TIGR: 32,507\n",
      "Number TIGR domains: 4,488\n"
     ]
    }
   ],
   "source": [
    "tigr_summary = pd.read_csv(db_proka / 'TIGR_summary.tsv.gz', sep='\\t', index_col='assembly_accession')\n",
    "\n",
    "tigr_summary = tigr_summary.drop(columns=['asm_name'])\n",
    "\n",
    "tigr_bacteria = tigr_summary.loc[\n",
    "    sorted(set(tigr_summary.index) & set(bacterial_index))\n",
    "]\n",
    "\n",
    "tigr_domains = tigr_bacteria.columns\n",
    "\n",
    "print(f'Number bacterial records in TIGR: {len(tigr_bacteria):,}')\n",
    "print(f'Number TIGR domains: {len(tigr_domains):,}')"
   ]
  },
  {
   "cell_type": "code",
   "execution_count": 11,
   "metadata": {},
   "outputs": [
    {
     "name": "stdout",
     "output_type": "stream",
     "text": [
      "Number of TIGR domains present in at least 10% of all genomes: 1,551\n"
     ]
    }
   ],
   "source": [
    "TIGR_sum_df = (tigr_bacteria > 0).sum()\n",
    "relevant_TIGR_domains = tigr_bacteria.columns[\n",
    "    (TIGR_sum_df >= 0.1 * len(tigr_bacteria)) &\n",
    "    (TIGR_sum_df  < 1.0 * len(tigr_bacteria))\n",
    "]\n",
    "print(f'Number of TIGR domains present in at least 10% of all genomes: {len(relevant_TIGR_domains):,}')"
   ]
  },
  {
   "cell_type": "code",
   "execution_count": 12,
   "metadata": {},
   "outputs": [],
   "source": [
    "TIGR_binarized_dataset = (tigr_bacteria[relevant_TIGR_domains] > 0).astype(int)\n",
    "TIGR_binarized_dataset.to_csv(data_folder / 'TIGR_bacteria.csv')"
   ]
  },
  {
   "cell_type": "markdown",
   "metadata": {},
   "source": [
    "## Phylogeny"
   ]
  },
  {
   "cell_type": "code",
   "execution_count": 6,
   "metadata": {},
   "outputs": [
    {
     "data": {
      "text/html": [
       "<div>\n",
       "<style scoped>\n",
       "    .dataframe tbody tr th:only-of-type {\n",
       "        vertical-align: middle;\n",
       "    }\n",
       "\n",
       "    .dataframe tbody tr th {\n",
       "        vertical-align: top;\n",
       "    }\n",
       "\n",
       "    .dataframe thead th {\n",
       "        text-align: right;\n",
       "    }\n",
       "</style>\n",
       "<table border=\"1\" class=\"dataframe\">\n",
       "  <thead>\n",
       "    <tr style=\"text-align: right;\">\n",
       "      <th></th>\n",
       "      <th>gtdb_order</th>\n",
       "    </tr>\n",
       "    <tr>\n",
       "      <th>ncbi_accession</th>\n",
       "      <th></th>\n",
       "    </tr>\n",
       "  </thead>\n",
       "  <tbody>\n",
       "    <tr>\n",
       "      <th>GCA_002774355.1</th>\n",
       "      <td>UBA2242</td>\n",
       "    </tr>\n",
       "    <tr>\n",
       "      <th>GCA_002779395.1</th>\n",
       "      <td>0-14-0-80-59-12</td>\n",
       "    </tr>\n",
       "    <tr>\n",
       "      <th>GCA_018897875.1</th>\n",
       "      <td>Desulfobaccales</td>\n",
       "    </tr>\n",
       "    <tr>\n",
       "      <th>GCA_016875015.1</th>\n",
       "      <td>Desulfobaccales</td>\n",
       "    </tr>\n",
       "    <tr>\n",
       "      <th>GCA_023229795.1</th>\n",
       "      <td>Desulfobaccales</td>\n",
       "    </tr>\n",
       "  </tbody>\n",
       "</table>\n",
       "</div>"
      ],
      "text/plain": [
       "                      gtdb_order\n",
       "ncbi_accession                  \n",
       "GCA_002774355.1          UBA2242\n",
       "GCA_002779395.1  0-14-0-80-59-12\n",
       "GCA_018897875.1  Desulfobaccales\n",
       "GCA_016875015.1  Desulfobaccales\n",
       "GCA_023229795.1  Desulfobaccales"
      ]
     },
     "execution_count": 6,
     "metadata": {},
     "output_type": "execute_result"
    }
   ],
   "source": [
    "tax_order_df = gtdb_metadata.loc[bacterial_index][['gtdb_order']]\n",
    "tax_order_df.head()"
   ]
  },
  {
   "cell_type": "code",
   "execution_count": 7,
   "metadata": {},
   "outputs": [],
   "source": [
    "tax_order_bin = pd.get_dummies(\n",
    "    tax_order_df['gtdb_order'], \n",
    "    prefix='o', \n",
    "    prefix_sep='_',\n",
    ").astype(int)\n",
    "tax_order_bin.index = tax_order_df.index\n",
    "tax_order_bin = tax_order_bin.reset_index().rename(\n",
    "    columns={'ncbi_accession': 'assembly_accession'}\n",
    ").set_index('assembly_accession', drop=True)"
   ]
  },
  {
   "cell_type": "code",
   "execution_count": 8,
   "metadata": {},
   "outputs": [],
   "source": [
    "tax_order_bin.to_csv(data_folder / 'taxonomy_order_bacteria.csv')"
   ]
  },
  {
   "cell_type": "markdown",
   "metadata": {},
   "source": [
    "### Full taxonomy"
   ]
  },
  {
   "cell_type": "code",
   "execution_count": 14,
   "metadata": {},
   "outputs": [
    {
     "data": {
      "text/html": [
       "<div>\n",
       "<style scoped>\n",
       "    .dataframe tbody tr th:only-of-type {\n",
       "        vertical-align: middle;\n",
       "    }\n",
       "\n",
       "    .dataframe tbody tr th {\n",
       "        vertical-align: top;\n",
       "    }\n",
       "\n",
       "    .dataframe thead th {\n",
       "        text-align: right;\n",
       "    }\n",
       "</style>\n",
       "<table border=\"1\" class=\"dataframe\">\n",
       "  <thead>\n",
       "    <tr style=\"text-align: right;\">\n",
       "      <th></th>\n",
       "      <th>gtdb_phylum</th>\n",
       "      <th>gtdb_class</th>\n",
       "      <th>gtdb_order</th>\n",
       "      <th>gtdb_family</th>\n",
       "      <th>gtdb_genus</th>\n",
       "      <th>gtdb_species</th>\n",
       "    </tr>\n",
       "    <tr>\n",
       "      <th>ncbi_accession</th>\n",
       "      <th></th>\n",
       "      <th></th>\n",
       "      <th></th>\n",
       "      <th></th>\n",
       "      <th></th>\n",
       "      <th></th>\n",
       "    </tr>\n",
       "  </thead>\n",
       "  <tbody>\n",
       "    <tr>\n",
       "      <th>GCA_002774355.1</th>\n",
       "      <td>p__Marinisomatota</td>\n",
       "      <td>c__UBA2242</td>\n",
       "      <td>o__UBA2242</td>\n",
       "      <td>f__UBA2242</td>\n",
       "      <td>g__0-14-0-20-45-22</td>\n",
       "      <td>s__0-14-0-20-45-22 sp002774355</td>\n",
       "    </tr>\n",
       "    <tr>\n",
       "      <th>GCA_002779395.1</th>\n",
       "      <td>p__Bacteroidota</td>\n",
       "      <td>c__0-14-0-80-59-12</td>\n",
       "      <td>o__0-14-0-80-59-12</td>\n",
       "      <td>f__0-14-0-80-59-12</td>\n",
       "      <td>g__0-14-0-80-59-12</td>\n",
       "      <td>s__0-14-0-80-59-12 sp002779395</td>\n",
       "    </tr>\n",
       "    <tr>\n",
       "      <th>GCA_018897875.1</th>\n",
       "      <td>p__Desulfobacterota</td>\n",
       "      <td>c__Desulfobaccia</td>\n",
       "      <td>o__Desulfobaccales</td>\n",
       "      <td>f__0-14-0-80-60-11</td>\n",
       "      <td>g__0-14-0-80-60-11</td>\n",
       "      <td>s__0-14-0-80-60-11 sp018897875</td>\n",
       "    </tr>\n",
       "    <tr>\n",
       "      <th>GCA_016875015.1</th>\n",
       "      <td>p__Desulfobacterota</td>\n",
       "      <td>c__Desulfobaccia</td>\n",
       "      <td>o__Desulfobaccales</td>\n",
       "      <td>f__0-14-0-80-60-11</td>\n",
       "      <td>g__0-14-0-80-60-11</td>\n",
       "      <td>s__0-14-0-80-60-11 sp016875015</td>\n",
       "    </tr>\n",
       "    <tr>\n",
       "      <th>GCA_023229795.1</th>\n",
       "      <td>p__Desulfobacterota</td>\n",
       "      <td>c__Desulfobaccia</td>\n",
       "      <td>o__Desulfobaccales</td>\n",
       "      <td>f__0-14-0-80-60-11</td>\n",
       "      <td>g__0-14-0-80-60-11</td>\n",
       "      <td>s__0-14-0-80-60-11 sp023229795</td>\n",
       "    </tr>\n",
       "  </tbody>\n",
       "</table>\n",
       "</div>"
      ],
      "text/plain": [
       "                         gtdb_phylum          gtdb_class          gtdb_order  \\\n",
       "ncbi_accession                                                                 \n",
       "GCA_002774355.1    p__Marinisomatota          c__UBA2242          o__UBA2242   \n",
       "GCA_002779395.1      p__Bacteroidota  c__0-14-0-80-59-12  o__0-14-0-80-59-12   \n",
       "GCA_018897875.1  p__Desulfobacterota    c__Desulfobaccia  o__Desulfobaccales   \n",
       "GCA_016875015.1  p__Desulfobacterota    c__Desulfobaccia  o__Desulfobaccales   \n",
       "GCA_023229795.1  p__Desulfobacterota    c__Desulfobaccia  o__Desulfobaccales   \n",
       "\n",
       "                        gtdb_family          gtdb_genus  \\\n",
       "ncbi_accession                                            \n",
       "GCA_002774355.1          f__UBA2242  g__0-14-0-20-45-22   \n",
       "GCA_002779395.1  f__0-14-0-80-59-12  g__0-14-0-80-59-12   \n",
       "GCA_018897875.1  f__0-14-0-80-60-11  g__0-14-0-80-60-11   \n",
       "GCA_016875015.1  f__0-14-0-80-60-11  g__0-14-0-80-60-11   \n",
       "GCA_023229795.1  f__0-14-0-80-60-11  g__0-14-0-80-60-11   \n",
       "\n",
       "                                   gtdb_species  \n",
       "ncbi_accession                                   \n",
       "GCA_002774355.1  s__0-14-0-20-45-22 sp002774355  \n",
       "GCA_002779395.1  s__0-14-0-80-59-12 sp002779395  \n",
       "GCA_018897875.1  s__0-14-0-80-60-11 sp018897875  \n",
       "GCA_016875015.1  s__0-14-0-80-60-11 sp016875015  \n",
       "GCA_023229795.1  s__0-14-0-80-60-11 sp023229795  "
      ]
     },
     "execution_count": 14,
     "metadata": {},
     "output_type": "execute_result"
    }
   ],
   "source": [
    "full_taxonomy = gtdb_metadata.loc[bacterial_index][[\n",
    "    'gtdb_phylum', 'gtdb_class', 'gtdb_order', 'gtdb_family', 'gtdb_genus', 'gtdb_species'\n",
    "]]\n",
    "\n",
    "tax_col_and_prefixes = [\n",
    "    ('gtdb_phylum', 'p__'), \n",
    "    ('gtdb_class', 'c__'), \n",
    "    ('gtdb_order', 'o__'), \n",
    "    ('gtdb_family', 'f__'), \n",
    "    ('gtdb_genus', 'g__'), \n",
    "    ('gtdb_species', 's__'),\n",
    "]\n",
    "\n",
    "for tax_col, prefix in tax_col_and_prefixes:\n",
    "    full_taxonomy[tax_col] = full_taxonomy[tax_col].apply(\n",
    "        lambda t: f'{prefix}{t}'\n",
    "    )\n",
    "\n",
    "full_taxonomy.head()"
   ]
  },
  {
   "cell_type": "code",
   "execution_count": 15,
   "metadata": {},
   "outputs": [
    {
     "data": {
      "text/html": [
       "<div>\n",
       "<style scoped>\n",
       "    .dataframe tbody tr th:only-of-type {\n",
       "        vertical-align: middle;\n",
       "    }\n",
       "\n",
       "    .dataframe tbody tr th {\n",
       "        vertical-align: top;\n",
       "    }\n",
       "\n",
       "    .dataframe thead th {\n",
       "        text-align: right;\n",
       "    }\n",
       "</style>\n",
       "<table border=\"1\" class=\"dataframe\">\n",
       "  <thead>\n",
       "    <tr style=\"text-align: right;\">\n",
       "      <th></th>\n",
       "      <th>gtdb_phylum</th>\n",
       "      <th>gtdb_class</th>\n",
       "      <th>gtdb_order</th>\n",
       "      <th>gtdb_family</th>\n",
       "      <th>gtdb_genus</th>\n",
       "      <th>gtdb_species</th>\n",
       "    </tr>\n",
       "    <tr>\n",
       "      <th>assembly_accession</th>\n",
       "      <th></th>\n",
       "      <th></th>\n",
       "      <th></th>\n",
       "      <th></th>\n",
       "      <th></th>\n",
       "      <th></th>\n",
       "    </tr>\n",
       "  </thead>\n",
       "  <tbody>\n",
       "    <tr>\n",
       "      <th>GCA_002774355.1</th>\n",
       "      <td>p__Marinisomatota</td>\n",
       "      <td>c__UBA2242</td>\n",
       "      <td>o__UBA2242</td>\n",
       "      <td>f__UBA2242</td>\n",
       "      <td>g__0-14-0-20-45-22</td>\n",
       "      <td>s__0-14-0-20-45-22 sp002774355</td>\n",
       "    </tr>\n",
       "    <tr>\n",
       "      <th>GCA_002779395.1</th>\n",
       "      <td>p__Bacteroidota</td>\n",
       "      <td>c__0-14-0-80-59-12</td>\n",
       "      <td>o__0-14-0-80-59-12</td>\n",
       "      <td>f__0-14-0-80-59-12</td>\n",
       "      <td>g__0-14-0-80-59-12</td>\n",
       "      <td>s__0-14-0-80-59-12 sp002779395</td>\n",
       "    </tr>\n",
       "    <tr>\n",
       "      <th>GCA_018897875.1</th>\n",
       "      <td>p__Desulfobacterota</td>\n",
       "      <td>c__Desulfobaccia</td>\n",
       "      <td>o__Desulfobaccales</td>\n",
       "      <td>f__0-14-0-80-60-11</td>\n",
       "      <td>g__0-14-0-80-60-11</td>\n",
       "      <td>s__0-14-0-80-60-11 sp018897875</td>\n",
       "    </tr>\n",
       "    <tr>\n",
       "      <th>GCA_016875015.1</th>\n",
       "      <td>p__Desulfobacterota</td>\n",
       "      <td>c__Desulfobaccia</td>\n",
       "      <td>o__Desulfobaccales</td>\n",
       "      <td>f__0-14-0-80-60-11</td>\n",
       "      <td>g__0-14-0-80-60-11</td>\n",
       "      <td>s__0-14-0-80-60-11 sp016875015</td>\n",
       "    </tr>\n",
       "    <tr>\n",
       "      <th>GCA_023229795.1</th>\n",
       "      <td>p__Desulfobacterota</td>\n",
       "      <td>c__Desulfobaccia</td>\n",
       "      <td>o__Desulfobaccales</td>\n",
       "      <td>f__0-14-0-80-60-11</td>\n",
       "      <td>g__0-14-0-80-60-11</td>\n",
       "      <td>s__0-14-0-80-60-11 sp023229795</td>\n",
       "    </tr>\n",
       "  </tbody>\n",
       "</table>\n",
       "</div>"
      ],
      "text/plain": [
       "                            gtdb_phylum          gtdb_class  \\\n",
       "assembly_accession                                            \n",
       "GCA_002774355.1       p__Marinisomatota          c__UBA2242   \n",
       "GCA_002779395.1         p__Bacteroidota  c__0-14-0-80-59-12   \n",
       "GCA_018897875.1     p__Desulfobacterota    c__Desulfobaccia   \n",
       "GCA_016875015.1     p__Desulfobacterota    c__Desulfobaccia   \n",
       "GCA_023229795.1     p__Desulfobacterota    c__Desulfobaccia   \n",
       "\n",
       "                            gtdb_order         gtdb_family  \\\n",
       "assembly_accession                                           \n",
       "GCA_002774355.1             o__UBA2242          f__UBA2242   \n",
       "GCA_002779395.1     o__0-14-0-80-59-12  f__0-14-0-80-59-12   \n",
       "GCA_018897875.1     o__Desulfobaccales  f__0-14-0-80-60-11   \n",
       "GCA_016875015.1     o__Desulfobaccales  f__0-14-0-80-60-11   \n",
       "GCA_023229795.1     o__Desulfobaccales  f__0-14-0-80-60-11   \n",
       "\n",
       "                            gtdb_genus                    gtdb_species  \n",
       "assembly_accession                                                      \n",
       "GCA_002774355.1     g__0-14-0-20-45-22  s__0-14-0-20-45-22 sp002774355  \n",
       "GCA_002779395.1     g__0-14-0-80-59-12  s__0-14-0-80-59-12 sp002779395  \n",
       "GCA_018897875.1     g__0-14-0-80-60-11  s__0-14-0-80-60-11 sp018897875  \n",
       "GCA_016875015.1     g__0-14-0-80-60-11  s__0-14-0-80-60-11 sp016875015  \n",
       "GCA_023229795.1     g__0-14-0-80-60-11  s__0-14-0-80-60-11 sp023229795  "
      ]
     },
     "execution_count": 15,
     "metadata": {},
     "output_type": "execute_result"
    }
   ],
   "source": [
    "full_taxonomy = full_taxonomy.reset_index().rename(\n",
    "    columns={'ncbi_accession': 'assembly_accession'}\n",
    ").set_index('assembly_accession', drop=True)\n",
    "full_taxonomy.head()"
   ]
  },
  {
   "cell_type": "code",
   "execution_count": 16,
   "metadata": {},
   "outputs": [],
   "source": [
    "full_taxonomy.to_csv(data_folder / 'taxonomy_bacteria.csv')"
   ]
  },
  {
   "cell_type": "code",
   "execution_count": null,
   "metadata": {},
   "outputs": [],
   "source": []
  }
 ],
 "metadata": {
  "kernelspec": {
   "display_name": "cwb",
   "language": "python",
   "name": "python3"
  },
  "language_info": {
   "codemirror_mode": {
    "name": "ipython",
    "version": 3
   },
   "file_extension": ".py",
   "mimetype": "text/x-python",
   "name": "python",
   "nbconvert_exporter": "python",
   "pygments_lexer": "ipython3",
   "version": "3.11.9"
  }
 },
 "nbformat": 4,
 "nbformat_minor": 2
}
